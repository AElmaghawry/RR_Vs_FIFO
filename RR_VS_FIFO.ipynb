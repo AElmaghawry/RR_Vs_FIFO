{
 "cells": [
  {
   "cell_type": "markdown",
   "metadata": {},
   "source": [
    "# Task 4 - Linux Schedullar \n",
    "#### Introduction  \n",
    "\n",
    "\n",
    "Linux scheduler is a method that decide which process needed to be excuted \n",
    "There are a lot of Algorithms that could be used for the schedular , those algorithms are differ than each other, and it depends on the applications and the perofrmance \n",
    "\n",
    "on this task we are going to test a couple of technqiues and measure the performance of each one \n",
    "those teqhniques are \"First In and First out\" and \"Round Robin\"\n",
    "\n",
    "Inorder to measure the performance of any scheduling techqnies. there is a couple of terms needed to be defined: \n",
    "\n",
    "### Perfomance Paramters:\n",
    "\n",
    "* **Compliation time**: is the time for any process to complete its excution  \n",
    "* **Turn arround Time** : is the time diffrence between the start of the process and its compliation\n",
    "* **Brust time** : is the expected time for any process to be excuted without any intrupt  \n",
    "* **Waiting time** : is the diffrence between the turn arround time and brust time  \n"
   ]
  },
  {
   "cell_type": "markdown",
   "metadata": {},
   "source": [
    "\n",
    "### First In First out (FIFO) \n",
    "This method arranges the processess in queues, those queues are stored in the same orde as they arrived.\n",
    "Examples \n",
    "\n",
    "| Process | Duration  | Order | Arrival Time |\n",
    "| --- | --- | --- |--- |\n",
    "| P1 | 24 | 1 | 0.0 |\n",
    "| P2 | 3 | 2 | 0.0 |\n",
    "| P3 | 4 | 3 | 0.0 |\n"
   ]
  },
  {
   "cell_type": "code",
   "execution_count": 7,
   "metadata": {},
   "outputs": [],
   "source": [
    "# Python3 program for implementation\n",
    "# of FCFS scheduling\n",
    "\n",
    "# Function to find the waiting\n",
    "# time for all processes\n",
    "def findWaitingTime(processes, n ,bt, wt):\n",
    "    # waiting time for\n",
    "    # first process is 0\n",
    "    wt[0] = 0\n",
    "\n",
    "    # calculating waiting time\n",
    "    for i in range(1, n):\n",
    "        wt[i] = bt[i - 1] + wt[i - 1]\n"
   ]
  },
  {
   "cell_type": "code",
   "execution_count": 8,
   "metadata": {},
   "outputs": [],
   "source": [
    "# Function to calculate turn\n",
    "# around time\n",
    "def findTurnAroundTime(processes, n,\n",
    "                       bt, wt, tat):\n",
    "    # calculating turnaround\n",
    "    # time by adding bt[i] + wt[i]\n",
    "    for i in range(n):\n",
    "        tat[i] = bt[i] + wt[i]\n"
   ]
  },
  {
   "cell_type": "code",
   "execution_count": 9,
   "metadata": {},
   "outputs": [],
   "source": [
    "# Function to calculate\n",
    "# average time\n",
    "def findavgTime(processes, n, bt):\n",
    "    wt = [0] * n\n",
    "    tat = [0] * n\n",
    "    total_wt = 0\n",
    "    total_tat = 0\n",
    "\n",
    "    # Function to find waiting\n",
    "    # time of all processes\n",
    "    findWaitingTime(processes, n, bt, wt)\n",
    "\n",
    "    # Function to find turn around\n",
    "    # time for all processes\n",
    "    findTurnAroundTime(processes, n,\n",
    "                       bt, wt, tat)\n",
    "\n",
    "    # Display processes along\n",
    "    # with all details\n",
    "    print(\"Processes Burst time \" +\n",
    "          \" Waiting time \" +\n",
    "          \" Turn around time\")\n",
    "\n",
    "    # Calculate total waiting time\n",
    "    # and total turn around time\n",
    "    for i in range(n):\n",
    "        total_wt = total_wt + wt[i]\n",
    "        total_tat = total_tat + tat[i]\n",
    "        print(\" \" + str(i + 1) + \"\\t\\t\" +\n",
    "              str(bt[i]) + \"\\t \" +\n",
    "              str(wt[i]) + \"\\t\\t \" +\n",
    "              str(tat[i]))\n",
    "\n",
    "    print(\"Average waiting time = \" +\n",
    "          str(total_wt / n))\n",
    "    print(\"Average turn around time = \" +\n",
    "          str(total_tat / n))\n"
   ]
  },
  {
   "cell_type": "code",
   "execution_count": 10,
   "metadata": {},
   "outputs": [
    {
     "name": "stdout",
     "output_type": "stream",
     "text": [
      "Processes Burst time  Waiting time  Turn around time\n",
      " 1\t\t30010\t 0\t\t 30010\n",
      " 2\t\t5\t 30010\t\t 30015\n",
      " 3\t\t8\t 30015\t\t 30023\n",
      " 4\t\t10\t 30023\t\t 30033\n",
      " 5\t\t5\t 30033\t\t 30038\n",
      " 6\t\t8\t 30038\t\t 30046\n",
      " 7\t\t20\t 30046\t\t 30066\n",
      " 8\t\t5\t 30066\t\t 30071\n",
      " 9\t\t8\t 30071\t\t 30079\n",
      "Average waiting time = 26700.222222222223\n",
      "Average turn around time = 30042.333333333332\n"
     ]
    }
   ],
   "source": [
    "# Driver code\n",
    "if __name__ == \"__main__\":\n",
    "    # process id's\n",
    "    processes = [1, 2, 3,4,5,6,7,8,9]\n",
    "    n = len(processes)\n",
    "\n",
    "    # Burst time of all processes\n",
    "    burst_time = [30010, 5, 8,10, 5, 8,20, 5, 8]\n",
    "\n",
    "    findavgTime(processes, n, burst_time)\n",
    "\n",
    "# This code is contributed\n",
    "# by Abdo"
   ]
  }
 ],
 "metadata": {
  "kernelspec": {
   "display_name": "Python 3.8.10 64-bit",
   "language": "python",
   "name": "python3"
  },
  "language_info": {
   "codemirror_mode": {
    "name": "ipython",
    "version": 3
   },
   "file_extension": ".py",
   "mimetype": "text/x-python",
   "name": "python",
   "nbconvert_exporter": "python",
   "pygments_lexer": "ipython3",
   "version": "3.8.10"
  },
  "orig_nbformat": 4,
  "vscode": {
   "interpreter": {
    "hash": "31f2aee4e71d21fbe5cf8b01ff0e069b9275f58929596ceb00d14d90e3e16cd6"
   }
  }
 },
 "nbformat": 4,
 "nbformat_minor": 2
}
